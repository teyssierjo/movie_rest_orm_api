{
 "cells": [
  {
   "cell_type": "markdown",
   "metadata": {},
   "source": [
    "## Import Modules"
   ]
  },
  {
   "cell_type": "code",
   "execution_count": 1,
   "metadata": {},
   "outputs": [],
   "source": [
    "import numpy as np\n",
    "import pandas as pd\n",
    "import requests\n",
    "from datetime import datetime, date\n",
    "import matplotlib.pyplot as plt\n",
    "import matplotlib.ticker as ticker\n",
    "import matplotlib.dates as mdates"
   ]
  },
  {
   "cell_type": "markdown",
   "metadata": {},
   "source": [
    "## Afficher les 3 dataframes correspondant aux demandes:"
   ]
  },
  {
   "cell_type": "markdown",
   "metadata": {},
   "source": [
    "### Stars by_birthdate"
   ]
  },
  {
   "cell_type": "code",
   "execution_count": 2,
   "metadata": {
    "scrolled": false
   },
   "outputs": [
    {
     "name": "stdout",
     "output_type": "stream",
     "text": [
      "Année de naissance des stars que vous voulez afficher: 1998\n"
     ]
    },
    {
     "data": {
      "text/html": [
       "<div>\n",
       "<style scoped>\n",
       "    .dataframe tbody tr th:only-of-type {\n",
       "        vertical-align: middle;\n",
       "    }\n",
       "\n",
       "    .dataframe tbody tr th {\n",
       "        vertical-align: top;\n",
       "    }\n",
       "\n",
       "    .dataframe thead th {\n",
       "        text-align: right;\n",
       "    }\n",
       "</style>\n",
       "<table border=\"1\" class=\"dataframe\">\n",
       "  <thead>\n",
       "    <tr style=\"text-align: right;\">\n",
       "      <th></th>\n",
       "      <th>name</th>\n",
       "      <th>birthdate</th>\n",
       "    </tr>\n",
       "    <tr>\n",
       "      <th>id</th>\n",
       "      <th></th>\n",
       "      <th></th>\n",
       "    </tr>\n",
       "  </thead>\n",
       "  <tbody>\n",
       "    <tr>\n",
       "      <th>1556364</th>\n",
       "      <td>Anthony De Marco</td>\n",
       "      <td>1998-01-01</td>\n",
       "    </tr>\n",
       "    <tr>\n",
       "      <th>2474692</th>\n",
       "      <td>Conor Carroll</td>\n",
       "      <td>1998-01-01</td>\n",
       "    </tr>\n",
       "    <tr>\n",
       "      <th>2973456</th>\n",
       "      <td>Jake Siciliano</td>\n",
       "      <td>1998-01-01</td>\n",
       "    </tr>\n",
       "    <tr>\n",
       "      <th>1</th>\n",
       "      <td>Johanna Teyssier</td>\n",
       "      <td>1998-10-02</td>\n",
       "    </tr>\n",
       "    <tr>\n",
       "      <th>9112634</th>\n",
       "      <td>Josiah Sheffie</td>\n",
       "      <td>1998-01-01</td>\n",
       "    </tr>\n",
       "    <tr>\n",
       "      <th>3151467</th>\n",
       "      <td>Lauren Ingmire</td>\n",
       "      <td>1998-01-01</td>\n",
       "    </tr>\n",
       "    <tr>\n",
       "      <th>1638321</th>\n",
       "      <td>Maya Hawke</td>\n",
       "      <td>1998-01-01</td>\n",
       "    </tr>\n",
       "    <tr>\n",
       "      <th>11749103</th>\n",
       "      <td>Mehdi Teyssier</td>\n",
       "      <td>1998-10-01</td>\n",
       "    </tr>\n",
       "    <tr>\n",
       "      <th>5693256</th>\n",
       "      <td>Tallia Storm</td>\n",
       "      <td>1998-01-01</td>\n",
       "    </tr>\n",
       "    <tr>\n",
       "      <th>4487928</th>\n",
       "      <td>Ty Parker</td>\n",
       "      <td>1998-01-01</td>\n",
       "    </tr>\n",
       "  </tbody>\n",
       "</table>\n",
       "</div>"
      ],
      "text/plain": [
       "                      name   birthdate\n",
       "id                                    \n",
       "1556364   Anthony De Marco  1998-01-01\n",
       "2474692      Conor Carroll  1998-01-01\n",
       "2973456     Jake Siciliano  1998-01-01\n",
       "1         Johanna Teyssier  1998-10-02\n",
       "9112634     Josiah Sheffie  1998-01-01\n",
       "3151467     Lauren Ingmire  1998-01-01\n",
       "1638321         Maya Hawke  1998-01-01\n",
       "11749103    Mehdi Teyssier  1998-10-01\n",
       "5693256       Tallia Storm  1998-01-01\n",
       "4487928          Ty Parker  1998-01-01"
      ]
     },
     "execution_count": 2,
     "metadata": {},
     "output_type": "execute_result"
    }
   ],
   "source": [
    "# Ask the user which year of birth he/she wants to display the actors born in this year\n",
    "year = int(input('Année de naissance des stars que vous voulez afficher: '))\n",
    "# Read JSON\n",
    "dfStarsByBirthYear = pd.read_json(f'http://localhost:8000/stars/by_birthyear/{year}')\n",
    "# Here, we adapt our data by passing through a lambda which is used to make a function at the time of an englobing call.\n",
    "# Thus, we can \"type\" our birthdate column in date and manage our 'None' values.\n",
    "dfStarsByBirthYear.birthdate = dfStarsByBirthYear.birthdate.apply(lambda bd:date.fromisoformat(bd) if bd is not None else None)\n",
    "# Indexing with the id read in the JSON\n",
    "dfStarsByBirthYear.set_index('id', inplace=True)\n",
    "# Display all the stars born this year\n",
    "dfStarsByBirthYear"
   ]
  },
  {
   "cell_type": "markdown",
   "metadata": {},
   "source": [
    "### Movies by_title"
   ]
  },
  {
   "cell_type": "code",
   "execution_count": 6,
   "metadata": {
    "scrolled": true
   },
   "outputs": [
    {
     "name": "stdout",
     "output_type": "stream",
     "text": [
      "Which movie do you want ?: Circle\n"
     ]
    },
    {
     "data": {
      "text/html": [
       "<div>\n",
       "<style scoped>\n",
       "    .dataframe tbody tr th:only-of-type {\n",
       "        vertical-align: middle;\n",
       "    }\n",
       "\n",
       "    .dataframe tbody tr th {\n",
       "        vertical-align: top;\n",
       "    }\n",
       "\n",
       "    .dataframe thead th {\n",
       "        text-align: right;\n",
       "    }\n",
       "</style>\n",
       "<table border=\"1\" class=\"dataframe\">\n",
       "  <thead>\n",
       "    <tr style=\"text-align: right;\">\n",
       "      <th></th>\n",
       "      <th>title</th>\n",
       "      <th>year</th>\n",
       "      <th>duration</th>\n",
       "    </tr>\n",
       "    <tr>\n",
       "      <th>id</th>\n",
       "      <th></th>\n",
       "      <th></th>\n",
       "      <th></th>\n",
       "    </tr>\n",
       "  </thead>\n",
       "  <tbody>\n",
       "    <tr>\n",
       "      <th>4287320</th>\n",
       "      <td>The Circle</td>\n",
       "      <td>2017</td>\n",
       "      <td>110</td>\n",
       "    </tr>\n",
       "  </tbody>\n",
       "</table>\n",
       "</div>"
      ],
      "text/plain": [
       "              title  year  duration\n",
       "id                                 \n",
       "4287320  The Circle  2017       110"
      ]
     },
     "execution_count": 6,
     "metadata": {},
     "output_type": "execute_result"
    }
   ],
   "source": [
    "# Ask the user which title of movie he/she wants to display\n",
    "title = input('Which movie do you want ?: ').split()\n",
    "# Manage spaces for the URL\n",
    "s = '%20'\n",
    "s = s.join(title)\n",
    "# Read JSON\n",
    "dfMoviesByTitle = pd.read_json(f'http://localhost:8000/movies/by_parttitle?n={s}')\n",
    "# Indexing with the id read in the JSON\n",
    "dfMoviesByTitle.set_index('id', inplace=True)\n",
    "# Display all the movies with this title or part of title\n",
    "dfMoviesByTitle"
   ]
  },
  {
   "cell_type": "markdown",
   "metadata": {},
   "source": [
    "### Stats by_actor"
   ]
  },
  {
   "cell_type": "code",
   "execution_count": 7,
   "metadata": {
    "scrolled": false
   },
   "outputs": [
    {
     "data": {
      "text/html": [
       "<div>\n",
       "<style scoped>\n",
       "    .dataframe tbody tr th:only-of-type {\n",
       "        vertical-align: middle;\n",
       "    }\n",
       "\n",
       "    .dataframe tbody tr th {\n",
       "        vertical-align: top;\n",
       "    }\n",
       "\n",
       "    .dataframe thead th {\n",
       "        text-align: right;\n",
       "    }\n",
       "</style>\n",
       "<table border=\"1\" class=\"dataframe\">\n",
       "  <thead>\n",
       "    <tr style=\"text-align: right;\">\n",
       "      <th></th>\n",
       "      <th>star</th>\n",
       "      <th>movie_count</th>\n",
       "      <th>first_movie_date</th>\n",
       "      <th>last_movie_date</th>\n",
       "    </tr>\n",
       "  </thead>\n",
       "  <tbody>\n",
       "    <tr>\n",
       "      <th>0</th>\n",
       "      <td>John Wayne</td>\n",
       "      <td>172</td>\n",
       "      <td>1926</td>\n",
       "      <td>1976</td>\n",
       "    </tr>\n",
       "    <tr>\n",
       "      <th>1</th>\n",
       "      <td>Harrison Ford</td>\n",
       "      <td>84</td>\n",
       "      <td>1917</td>\n",
       "      <td>1932</td>\n",
       "    </tr>\n",
       "    <tr>\n",
       "      <th>2</th>\n",
       "      <td>Sean Connery</td>\n",
       "      <td>73</td>\n",
       "      <td>1954</td>\n",
       "      <td>2012</td>\n",
       "    </tr>\n",
       "    <tr>\n",
       "      <th>3</th>\n",
       "      <td>Sylvester Stallone</td>\n",
       "      <td>73</td>\n",
       "      <td>1969</td>\n",
       "      <td>2019</td>\n",
       "    </tr>\n",
       "    <tr>\n",
       "      <th>4</th>\n",
       "      <td>Tom Hanks</td>\n",
       "      <td>69</td>\n",
       "      <td>1980</td>\n",
       "      <td>2020</td>\n",
       "    </tr>\n",
       "    <tr>\n",
       "      <th>...</th>\n",
       "      <td>...</td>\n",
       "      <td>...</td>\n",
       "      <td>...</td>\n",
       "      <td>...</td>\n",
       "    </tr>\n",
       "    <tr>\n",
       "      <th>161</th>\n",
       "      <td>Patrick Wayne</td>\n",
       "      <td>10</td>\n",
       "      <td>1950</td>\n",
       "      <td>1971</td>\n",
       "    </tr>\n",
       "    <tr>\n",
       "      <th>162</th>\n",
       "      <td>Frank Welker</td>\n",
       "      <td>10</td>\n",
       "      <td>1981</td>\n",
       "      <td>2019</td>\n",
       "    </tr>\n",
       "    <tr>\n",
       "      <th>163</th>\n",
       "      <td>Grant Withers</td>\n",
       "      <td>10</td>\n",
       "      <td>1943</td>\n",
       "      <td>1955</td>\n",
       "    </tr>\n",
       "    <tr>\n",
       "      <th>164</th>\n",
       "      <td>Michael Fassbender</td>\n",
       "      <td>10</td>\n",
       "      <td>2001</td>\n",
       "      <td>2017</td>\n",
       "    </tr>\n",
       "    <tr>\n",
       "      <th>165</th>\n",
       "      <td>Joseph Oliveira</td>\n",
       "      <td>10</td>\n",
       "      <td>1975</td>\n",
       "      <td>2019</td>\n",
       "    </tr>\n",
       "  </tbody>\n",
       "</table>\n",
       "<p>166 rows × 4 columns</p>\n",
       "</div>"
      ],
      "text/plain": [
       "                   star  movie_count  first_movie_date  last_movie_date\n",
       "0            John Wayne          172              1926             1976\n",
       "1         Harrison Ford           84              1917             1932\n",
       "2          Sean Connery           73              1954             2012\n",
       "3    Sylvester Stallone           73              1969             2019\n",
       "4             Tom Hanks           69              1980             2020\n",
       "..                  ...          ...               ...              ...\n",
       "161       Patrick Wayne           10              1950             1971\n",
       "162        Frank Welker           10              1981             2019\n",
       "163       Grant Withers           10              1943             1955\n",
       "164  Michael Fassbender           10              2001             2017\n",
       "165     Joseph Oliveira           10              1975             2019\n",
       "\n",
       "[166 rows x 4 columns]"
      ]
     },
     "execution_count": 7,
     "metadata": {},
     "output_type": "execute_result"
    }
   ],
   "source": [
    "# Set min_count\n",
    "minc = 10\n",
    "# Read JSON\n",
    "dfStatsMovieByActor = pd.read_json(f'http://localhost:8000/stars/stats_movie_by_actor?minc={minc}')\n",
    "# Display statistics by actor\n",
    "dfStatsMovieByActor"
   ]
  },
  {
   "cell_type": "markdown",
   "metadata": {},
   "source": [
    "## Afficher les figures:"
   ]
  },
  {
   "cell_type": "markdown",
   "metadata": {},
   "source": [
    "### Répartition par année des films et naissances de stars:"
   ]
  },
  {
   "cell_type": "code",
   "execution_count": 8,
   "metadata": {},
   "outputs": [],
   "source": [
    "# Parameters\n",
    "skip = 0\n",
    "limit = 10000"
   ]
  },
  {
   "cell_type": "code",
   "execution_count": 9,
   "metadata": {
    "scrolled": true
   },
   "outputs": [],
   "source": [
    "# Read JSON\n",
    "dfMovies = pd.read_json(f'http://localhost:8000/movies?skip={skip}&limit={limit}')\n",
    "# Keep only two columns: 'year' and 'title'\n",
    "dfMovies = dfMovies[['year','title']]\n",
    "# Count movies grouping by 'year'\n",
    "dfMoviesByYear = dfMovies.groupby(by='year').count()\n",
    "# Rename column 'title' by 'count_movies'\n",
    "dfMoviesByYear.columns = pd.Index(['count_movies'], dtype='object')"
   ]
  },
  {
   "cell_type": "code",
   "execution_count": 10,
   "metadata": {
    "scrolled": true
   },
   "outputs": [],
   "source": [
    "# Read JSON\n",
    "dfStars = pd.read_json(f'http://localhost:8000/stars/?skip={skip}&limit={limit}')\n",
    "# Str to Datetime\n",
    "dfStars.birthdate = dfStars.birthdate.apply(lambda bd:date.fromisoformat(bd) if bd is not None else None)\n",
    "# Delete 'None' values\n",
    "dfStars = dfStars[~dfStars['birthdate'].isna()]\n",
    "# Add a column 'birthyear'\n",
    "dfStars['birthyear'] = pd.to_datetime(dfStars['birthdate']).dt.year\n",
    "# Keeping only the two columns 'name' & 'birthyear'\n",
    "dfStarsByYear = dfStars[['name','birthyear']]\n",
    "# Count stars grouping by 'birthyear'\n",
    "dfStarsByYear = dfStarsByYear.groupby(by='birthyear').count()\n",
    "# Rename column 'name' by 'count_stars'\n",
    "dfStarsByYear.columns = pd.Index(['count_stars'], dtype='object')"
   ]
  },
  {
   "cell_type": "code",
   "execution_count": 11,
   "metadata": {},
   "outputs": [
    {
     "data": {
      "image/png": "[encoded data removed]",
      "text/plain": [
       "<Figure size 1008x576 with 2 Axes>"
      ]
     },
     "metadata": {
      "needs_background": "light"
     },
     "output_type": "display_data"
    }
   ],
   "source": [
    "# fig: the whole pattern\n",
    "# ax1, ax2: 2 layouts\n",
    "fig, (ax1,ax2) = plt.subplots(2,1, figsize=(14,8)) # 2 graphs (2 rows, 1 column)\n",
    "\n",
    "# Plot 1 on ax1\n",
    "ax1.bar(dfMoviesByYear.index, dfMoviesByYear.count_movies, color='purple')\n",
    "ax1.set_xlabel('Year')\n",
    "ax1.set_ylabel('Nbr of Movies')\n",
    "ax1.set_title('Number of Movies by Year')\n",
    "ax1.set_xlim(1910,2025)\n",
    "# Major graduation on the x axis\n",
    "ax1.xaxis.set_major_locator(ticker.MultipleLocator(10))\n",
    "# Minor graduation on the x axis\n",
    "ax1.xaxis.set_minor_locator(ticker.MultipleLocator(20))\n",
    "\n",
    "# Plot 2 on ax2\n",
    "ax2.bar(dfStarsByYear.index, dfStarsByYear.count_stars, color='pink')\n",
    "ax2.set_xlabel('Year')\n",
    "ax2.set_ylabel('Nbr of Birth')\n",
    "ax2.set_title(\"Number of Stars Born by Year\")\n",
    "ax2.set_xlim(1840,2000)\n",
    "# Major graduation on the x axis\n",
    "ax2.xaxis.set_major_locator(ticker.MultipleLocator(10))\n",
    "# Minor graduation on the x axis\n",
    "ax2.xaxis.set_minor_locator(ticker.MultipleLocator(20))\n",
    "\n",
    "fig.tight_layout()"
   ]
  },
  {
   "cell_type": "markdown",
   "metadata": {},
   "source": [
    "### Diagramme barres sur la carrière du top 10 acteurs (1 graphe nombre, 1 graphe années min/max):"
   ]
  },
  {
   "cell_type": "code",
   "execution_count": 12,
   "metadata": {
    "scrolled": true
   },
   "outputs": [],
   "source": [
    "# Sorting values by the number of movies and get the Top10 Actors\n",
    "Top10 = dfStatsMovieByActor.sort_values(['movie_count'], ascending=False).head(10)\n",
    "Top10 = Top10.set_index('star')"
   ]
  },
  {
   "cell_type": "code",
   "execution_count": 13,
   "metadata": {},
   "outputs": [
    {
     "data": {
      "image/png": "[encoded data removed]",
      "text/plain": [
       "<Figure size 1008x504 with 2 Axes>"
      ]
     },
     "metadata": {
      "needs_background": "light"
     },
     "output_type": "display_data"
    }
   ],
   "source": [
    "# fig: the whole pattern\n",
    "# ax1, ax2: 2 layouts\n",
    "fig, (ax1,ax2) = plt.subplots(1,2, figsize=(14,7)) # 2 graphs (2 rows, 1 column)\n",
    "\n",
    "# Plot 1 on ax1\n",
    "Top10.movie_count.plot(kind='bar', ax=ax1, color='purple')\n",
    "ax1.set_xlabel('Actors')\n",
    "ax1.set_ylabel('Nbr of Movies')\n",
    "ax1.set_title('Number of Movies by Top10 Actors')\n",
    "ax1.set_ylim(0,200)\n",
    "\n",
    "# Plot 2 on ax2\n",
    "Top10.plot(y=['first_movie_date', 'last_movie_date'], kind='bar', ax=ax2, color=['pink', 'purple'])\n",
    "ax2.set_xlabel('Actors')\n",
    "ax2.set_ylabel('Year')\n",
    "ax2.set_title(\"First & Last Movies by Top10 Actors\")\n",
    "ax2.set_ylim(1900,2025)\n",
    "\n",
    "fig.tight_layout()"
   ]
  }
 ],
 "metadata": {
  "kernelspec": {
   "display_name": "Python 3",
   "language": "python",
   "name": "python3"
  }
 },
 "nbformat": 4,
 "nbformat_minor": 4
}
